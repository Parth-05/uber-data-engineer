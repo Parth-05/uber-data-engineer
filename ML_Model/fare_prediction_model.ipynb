{
 "cells": [
  {
   "cell_type": "code",
   "execution_count": 1,
   "id": "743d20ac",
   "metadata": {},
   "outputs": [],
   "source": [
    "import pandas as pd\n",
    "from sklearn.model_selection import train_test_split\n",
    "from sklearn.preprocessing import OneHotEncoder, StandardScaler\n",
    "from sklearn.compose import ColumnTransformer\n",
    "from sklearn.pipeline import Pipeline\n",
    "from sklearn.ensemble import RandomForestRegressor\n",
    "from sklearn.metrics import mean_squared_error, r2_score\n",
    "import numpy as np"
   ]
  },
  {
   "cell_type": "code",
   "execution_count": 2,
   "id": "aa4d2934",
   "metadata": {},
   "outputs": [],
   "source": [
    "# 1. Load all Excel files\n",
    "fact = pd.read_csv(\"../Processed_Files/fact_trips.csv\")\n",
    "datetime = pd.read_csv(\"../Processed_Files/datetime_dim.csv\")\n",
    "pickup_loc = pd.read_csv(\"../Processed_Files/pickup_location_dim.csv\")\n",
    "dropoff_loc = pd.read_csv(\"../Processed_Files/dropoff_location_dim.csv\")\n",
    "payment = pd.read_csv(\"../Processed_Files/payment_type_dim.csv\")\n",
    "vendor = pd.read_csv(\"../Processed_Files/vendor_dim.csv\")\n",
    "rate_code = pd.read_csv(\"../Processed_Files/rate_code_dim.csv\")"
   ]
  },
  {
   "cell_type": "code",
   "execution_count": 3,
   "id": "06984861",
   "metadata": {},
   "outputs": [],
   "source": [
    "# 2. Merge all dimensions into the fact table\n",
    "df = fact.merge(datetime, on='datetime_id', how='left') \\\n",
    "         .merge(pickup_loc, on='pickup_location_id', how='left') \\\n",
    "         .merge(dropoff_loc, on='dropoff_location_id', how='left') \\\n",
    "         .merge(payment, on='payment_type_id', how='left') \\\n",
    "         .merge(vendor, on='vendor_id', how='left') \\\n",
    "         .merge(rate_code, on='rate_code_id', how='left')"
   ]
  },
  {
   "cell_type": "code",
   "execution_count": 4,
   "id": "688438fd",
   "metadata": {},
   "outputs": [
    {
     "data": {
      "text/html": [
       "<div>\n",
       "<style scoped>\n",
       "    .dataframe tbody tr th:only-of-type {\n",
       "        vertical-align: middle;\n",
       "    }\n",
       "\n",
       "    .dataframe tbody tr th {\n",
       "        vertical-align: top;\n",
       "    }\n",
       "\n",
       "    .dataframe thead th {\n",
       "        text-align: right;\n",
       "    }\n",
       "</style>\n",
       "<table border=\"1\" class=\"dataframe\">\n",
       "  <thead>\n",
       "    <tr style=\"text-align: right;\">\n",
       "      <th></th>\n",
       "      <th>vendor_id</th>\n",
       "      <th>rate_code_id</th>\n",
       "      <th>payment_type_id</th>\n",
       "      <th>pickup_location_id</th>\n",
       "      <th>dropoff_location_id</th>\n",
       "      <th>datetime_id</th>\n",
       "      <th>passenger_count</th>\n",
       "      <th>trip_distance</th>\n",
       "      <th>fare_amount</th>\n",
       "      <th>extra</th>\n",
       "      <th>...</th>\n",
       "      <th>drop_weekday</th>\n",
       "      <th>pickup_borough</th>\n",
       "      <th>pickup_zone</th>\n",
       "      <th>pickup_service_zone</th>\n",
       "      <th>dropoff_borough</th>\n",
       "      <th>dropoff_zone</th>\n",
       "      <th>dropoff_service_zone</th>\n",
       "      <th>payment_type_description</th>\n",
       "      <th>vendor_name</th>\n",
       "      <th>rate_code_description</th>\n",
       "    </tr>\n",
       "  </thead>\n",
       "  <tbody>\n",
       "    <tr>\n",
       "      <th>0</th>\n",
       "      <td>2</td>\n",
       "      <td>1</td>\n",
       "      <td>2</td>\n",
       "      <td>186</td>\n",
       "      <td>79</td>\n",
       "      <td>68719533120</td>\n",
       "      <td>1</td>\n",
       "      <td>1.72</td>\n",
       "      <td>17.7</td>\n",
       "      <td>1.0</td>\n",
       "      <td>...</td>\n",
       "      <td>Mon</td>\n",
       "      <td>Manhattan</td>\n",
       "      <td>Penn Station/Madison Sq West</td>\n",
       "      <td>Yellow Zone</td>\n",
       "      <td>Manhattan</td>\n",
       "      <td>East Village</td>\n",
       "      <td>Yellow Zone</td>\n",
       "      <td>Cash</td>\n",
       "      <td>VeriFone Inc.</td>\n",
       "      <td>Standard rate</td>\n",
       "    </tr>\n",
       "    <tr>\n",
       "      <th>1</th>\n",
       "      <td>1</td>\n",
       "      <td>1</td>\n",
       "      <td>1</td>\n",
       "      <td>140</td>\n",
       "      <td>236</td>\n",
       "      <td>51539649082</td>\n",
       "      <td>1</td>\n",
       "      <td>1.80</td>\n",
       "      <td>10.0</td>\n",
       "      <td>3.5</td>\n",
       "      <td>...</td>\n",
       "      <td>Mon</td>\n",
       "      <td>Manhattan</td>\n",
       "      <td>Lenox Hill East</td>\n",
       "      <td>Yellow Zone</td>\n",
       "      <td>Manhattan</td>\n",
       "      <td>Upper East Side North</td>\n",
       "      <td>Yellow Zone</td>\n",
       "      <td>Credit card</td>\n",
       "      <td>Creative Mobile Technologies, LLC</td>\n",
       "      <td>Standard rate</td>\n",
       "    </tr>\n",
       "    <tr>\n",
       "      <th>2</th>\n",
       "      <td>1</td>\n",
       "      <td>1</td>\n",
       "      <td>1</td>\n",
       "      <td>236</td>\n",
       "      <td>79</td>\n",
       "      <td>25769827335</td>\n",
       "      <td>1</td>\n",
       "      <td>4.70</td>\n",
       "      <td>23.3</td>\n",
       "      <td>3.5</td>\n",
       "      <td>...</td>\n",
       "      <td>Mon</td>\n",
       "      <td>Manhattan</td>\n",
       "      <td>Upper East Side North</td>\n",
       "      <td>Yellow Zone</td>\n",
       "      <td>Manhattan</td>\n",
       "      <td>East Village</td>\n",
       "      <td>Yellow Zone</td>\n",
       "      <td>Credit card</td>\n",
       "      <td>Creative Mobile Technologies, LLC</td>\n",
       "      <td>Standard rate</td>\n",
       "    </tr>\n",
       "    <tr>\n",
       "      <th>3</th>\n",
       "      <td>1</td>\n",
       "      <td>1</td>\n",
       "      <td>1</td>\n",
       "      <td>79</td>\n",
       "      <td>211</td>\n",
       "      <td>8589996090</td>\n",
       "      <td>1</td>\n",
       "      <td>1.40</td>\n",
       "      <td>10.0</td>\n",
       "      <td>3.5</td>\n",
       "      <td>...</td>\n",
       "      <td>Mon</td>\n",
       "      <td>Manhattan</td>\n",
       "      <td>East Village</td>\n",
       "      <td>Yellow Zone</td>\n",
       "      <td>Manhattan</td>\n",
       "      <td>SoHo</td>\n",
       "      <td>Yellow Zone</td>\n",
       "      <td>Credit card</td>\n",
       "      <td>Creative Mobile Technologies, LLC</td>\n",
       "      <td>Standard rate</td>\n",
       "    </tr>\n",
       "    <tr>\n",
       "      <th>4</th>\n",
       "      <td>1</td>\n",
       "      <td>1</td>\n",
       "      <td>1</td>\n",
       "      <td>211</td>\n",
       "      <td>148</td>\n",
       "      <td>51539635018</td>\n",
       "      <td>1</td>\n",
       "      <td>0.80</td>\n",
       "      <td>7.9</td>\n",
       "      <td>3.5</td>\n",
       "      <td>...</td>\n",
       "      <td>Mon</td>\n",
       "      <td>Manhattan</td>\n",
       "      <td>SoHo</td>\n",
       "      <td>Yellow Zone</td>\n",
       "      <td>Manhattan</td>\n",
       "      <td>Lower East Side</td>\n",
       "      <td>Yellow Zone</td>\n",
       "      <td>Credit card</td>\n",
       "      <td>Creative Mobile Technologies, LLC</td>\n",
       "      <td>Standard rate</td>\n",
       "    </tr>\n",
       "  </tbody>\n",
       "</table>\n",
       "<p>5 rows × 38 columns</p>\n",
       "</div>"
      ],
      "text/plain": [
       "   vendor_id  rate_code_id  payment_type_id  pickup_location_id  \\\n",
       "0          2             1                2                 186   \n",
       "1          1             1                1                 140   \n",
       "2          1             1                1                 236   \n",
       "3          1             1                1                  79   \n",
       "4          1             1                1                 211   \n",
       "\n",
       "   dropoff_location_id  datetime_id  passenger_count  trip_distance  \\\n",
       "0                   79  68719533120                1           1.72   \n",
       "1                  236  51539649082                1           1.80   \n",
       "2                   79  25769827335                1           4.70   \n",
       "3                  211   8589996090                1           1.40   \n",
       "4                  148  51539635018                1           0.80   \n",
       "\n",
       "   fare_amount  extra  ...  drop_weekday  pickup_borough  \\\n",
       "0         17.7    1.0  ...           Mon       Manhattan   \n",
       "1         10.0    3.5  ...           Mon       Manhattan   \n",
       "2         23.3    3.5  ...           Mon       Manhattan   \n",
       "3         10.0    3.5  ...           Mon       Manhattan   \n",
       "4          7.9    3.5  ...           Mon       Manhattan   \n",
       "\n",
       "                    pickup_zone  pickup_service_zone  dropoff_borough  \\\n",
       "0  Penn Station/Madison Sq West          Yellow Zone        Manhattan   \n",
       "1               Lenox Hill East          Yellow Zone        Manhattan   \n",
       "2         Upper East Side North          Yellow Zone        Manhattan   \n",
       "3                  East Village          Yellow Zone        Manhattan   \n",
       "4                          SoHo          Yellow Zone        Manhattan   \n",
       "\n",
       "            dropoff_zone  dropoff_service_zone payment_type_description  \\\n",
       "0           East Village           Yellow Zone                     Cash   \n",
       "1  Upper East Side North           Yellow Zone              Credit card   \n",
       "2           East Village           Yellow Zone              Credit card   \n",
       "3                   SoHo           Yellow Zone              Credit card   \n",
       "4        Lower East Side           Yellow Zone              Credit card   \n",
       "\n",
       "                         vendor_name  rate_code_description  \n",
       "0                      VeriFone Inc.          Standard rate  \n",
       "1  Creative Mobile Technologies, LLC          Standard rate  \n",
       "2  Creative Mobile Technologies, LLC          Standard rate  \n",
       "3  Creative Mobile Technologies, LLC          Standard rate  \n",
       "4  Creative Mobile Technologies, LLC          Standard rate  \n",
       "\n",
       "[5 rows x 38 columns]"
      ]
     },
     "execution_count": 4,
     "metadata": {},
     "output_type": "execute_result"
    }
   ],
   "source": [
    "df.head()"
   ]
  },
  {
   "cell_type": "code",
   "execution_count": 5,
   "id": "4dd606df",
   "metadata": {},
   "outputs": [
    {
     "data": {
      "text/plain": [
       "106240362"
      ]
     },
     "execution_count": 5,
     "metadata": {},
     "output_type": "execute_result"
    }
   ],
   "source": [
    "df.size"
   ]
  },
  {
   "cell_type": "code",
   "execution_count": 6,
   "id": "fec79c43",
   "metadata": {},
   "outputs": [
    {
     "name": "stdout",
     "output_type": "stream",
     "text": [
      "<class 'pandas.core.frame.DataFrame'>\n",
      "Int64Index: 2795799 entries, 0 to 2795798\n",
      "Data columns (total 38 columns):\n",
      " #   Column                    Dtype  \n",
      "---  ------                    -----  \n",
      " 0   vendor_id                 int64  \n",
      " 1   rate_code_id              int64  \n",
      " 2   payment_type_id           int64  \n",
      " 3   pickup_location_id        int64  \n",
      " 4   dropoff_location_id       int64  \n",
      " 5   datetime_id               int64  \n",
      " 6   passenger_count           int64  \n",
      " 7   trip_distance             float64\n",
      " 8   fare_amount               float64\n",
      " 9   extra                     float64\n",
      " 10  mta_tax                   float64\n",
      " 11  tip_amount                float64\n",
      " 12  tolls_amount              float64\n",
      " 13  total_amount              float64\n",
      " 14  congestion_surcharge      float64\n",
      " 15  airport_fee               float64\n",
      " 16  trip_id                   int64  \n",
      " 17  pickup_datetime           object \n",
      " 18  dropoff_datetime          object \n",
      " 19  pick_hour                 int64  \n",
      " 20  pick_day                  int64  \n",
      " 21  pick_month                int64  \n",
      " 22  pick_year                 int64  \n",
      " 23  pick_weekday              object \n",
      " 24  drop_hour                 int64  \n",
      " 25  drop_day                  int64  \n",
      " 26  drop_month                int64  \n",
      " 27  drop_year                 int64  \n",
      " 28  drop_weekday              object \n",
      " 29  pickup_borough            object \n",
      " 30  pickup_zone               object \n",
      " 31  pickup_service_zone       object \n",
      " 32  dropoff_borough           object \n",
      " 33  dropoff_zone              object \n",
      " 34  dropoff_service_zone      object \n",
      " 35  payment_type_description  object \n",
      " 36  vendor_name               object \n",
      " 37  rate_code_description     object \n",
      "dtypes: float64(9), int64(16), object(13)\n",
      "memory usage: 831.9+ MB\n"
     ]
    }
   ],
   "source": [
    "df.info()"
   ]
  },
  {
   "cell_type": "code",
   "execution_count": 7,
   "id": "0462970f",
   "metadata": {},
   "outputs": [],
   "source": [
    "# 3. Select features and target\n",
    "features = [\n",
    "    'trip_distance', 'passenger_count',\n",
    "    'pick_hour', 'pick_day', 'pick_month', 'pick_weekday',\n",
    "    'vendor_name', 'rate_code_description', 'payment_type_description',\n",
    "    'pickup_borough', 'pickup_zone', 'dropoff_borough', 'dropoff_zone'\n",
    "]\n",
    "target = 'fare_amount'"
   ]
  },
  {
   "cell_type": "code",
   "execution_count": 8,
   "id": "7d19068f",
   "metadata": {},
   "outputs": [
    {
     "data": {
      "text/plain": [
       "trip_distance                   0\n",
       "passenger_count                 0\n",
       "pick_hour                       0\n",
       "pick_day                        0\n",
       "pick_month                      0\n",
       "pick_weekday                    0\n",
       "vendor_name                     0\n",
       "rate_code_description           0\n",
       "payment_type_description        0\n",
       "pickup_borough               1360\n",
       "pickup_zone                 10167\n",
       "dropoff_borough             11703\n",
       "dropoff_zone                15811\n",
       "fare_amount                     0\n",
       "dtype: int64"
      ]
     },
     "execution_count": 8,
     "metadata": {},
     "output_type": "execute_result"
    }
   ],
   "source": [
    "# 4. Drop NA and keep relevant data\n",
    "df[features + [target]].isna().sum()"
   ]
  },
  {
   "cell_type": "code",
   "execution_count": 9,
   "id": "8534d441",
   "metadata": {},
   "outputs": [
    {
     "data": {
      "text/plain": [
       "pickup_borough     object\n",
       "pickup_zone        object\n",
       "dropoff_borough    object\n",
       "dropoff_zone       object\n",
       "dtype: object"
      ]
     },
     "execution_count": 9,
     "metadata": {},
     "output_type": "execute_result"
    }
   ],
   "source": [
    "df[['pickup_borough', 'pickup_zone', 'dropoff_borough', 'dropoff_zone']].dtypes"
   ]
  },
  {
   "cell_type": "code",
   "execution_count": 10,
   "id": "1ff27727",
   "metadata": {},
   "outputs": [
    {
     "data": {
      "text/plain": [
       "pickup_borough       7\n",
       "pickup_zone        250\n",
       "dropoff_borough      7\n",
       "dropoff_zone       258\n",
       "dtype: int64"
      ]
     },
     "execution_count": 10,
     "metadata": {},
     "output_type": "execute_result"
    }
   ],
   "source": [
    "df[['pickup_borough', 'pickup_zone', 'dropoff_borough', 'dropoff_zone']].nunique()"
   ]
  },
  {
   "cell_type": "code",
   "execution_count": 11,
   "id": "8e54c0a3",
   "metadata": {},
   "outputs": [
    {
     "data": {
      "text/html": [
       "<div>\n",
       "<style scoped>\n",
       "    .dataframe tbody tr th:only-of-type {\n",
       "        vertical-align: middle;\n",
       "    }\n",
       "\n",
       "    .dataframe tbody tr th {\n",
       "        vertical-align: top;\n",
       "    }\n",
       "\n",
       "    .dataframe thead th {\n",
       "        text-align: right;\n",
       "    }\n",
       "</style>\n",
       "<table border=\"1\" class=\"dataframe\">\n",
       "  <thead>\n",
       "    <tr style=\"text-align: right;\">\n",
       "      <th></th>\n",
       "      <th>pickup_borough</th>\n",
       "      <th>pickup_zone</th>\n",
       "      <th>dropoff_borough</th>\n",
       "      <th>dropoff_zone</th>\n",
       "    </tr>\n",
       "  </thead>\n",
       "  <tbody>\n",
       "    <tr>\n",
       "      <th>0</th>\n",
       "      <td>Manhattan</td>\n",
       "      <td>Penn Station/Madison Sq West</td>\n",
       "      <td>Manhattan</td>\n",
       "      <td>East Village</td>\n",
       "    </tr>\n",
       "    <tr>\n",
       "      <th>1</th>\n",
       "      <td>Manhattan</td>\n",
       "      <td>Lenox Hill East</td>\n",
       "      <td>Manhattan</td>\n",
       "      <td>Upper East Side North</td>\n",
       "    </tr>\n",
       "    <tr>\n",
       "      <th>2</th>\n",
       "      <td>Manhattan</td>\n",
       "      <td>Upper East Side North</td>\n",
       "      <td>Manhattan</td>\n",
       "      <td>East Village</td>\n",
       "    </tr>\n",
       "    <tr>\n",
       "      <th>3</th>\n",
       "      <td>Manhattan</td>\n",
       "      <td>East Village</td>\n",
       "      <td>Manhattan</td>\n",
       "      <td>SoHo</td>\n",
       "    </tr>\n",
       "    <tr>\n",
       "      <th>4</th>\n",
       "      <td>Manhattan</td>\n",
       "      <td>SoHo</td>\n",
       "      <td>Manhattan</td>\n",
       "      <td>Lower East Side</td>\n",
       "    </tr>\n",
       "    <tr>\n",
       "      <th>5</th>\n",
       "      <td>Manhattan</td>\n",
       "      <td>Lower East Side</td>\n",
       "      <td>Manhattan</td>\n",
       "      <td>Lenox Hill West</td>\n",
       "    </tr>\n",
       "    <tr>\n",
       "      <th>6</th>\n",
       "      <td>Queens</td>\n",
       "      <td>LaGuardia Airport</td>\n",
       "      <td>Brooklyn</td>\n",
       "      <td>Park Slope</td>\n",
       "    </tr>\n",
       "    <tr>\n",
       "      <th>7</th>\n",
       "      <td>Manhattan</td>\n",
       "      <td>West Chelsea/Hudson Yards</td>\n",
       "      <td>Manhattan</td>\n",
       "      <td>TriBeCa/Civic Center</td>\n",
       "    </tr>\n",
       "    <tr>\n",
       "      <th>8</th>\n",
       "      <td>Manhattan</td>\n",
       "      <td>Midtown Center</td>\n",
       "      <td>Manhattan</td>\n",
       "      <td>World Trade Center</td>\n",
       "    </tr>\n",
       "    <tr>\n",
       "      <th>9</th>\n",
       "      <td>Manhattan</td>\n",
       "      <td>Greenwich Village North</td>\n",
       "      <td>Manhattan</td>\n",
       "      <td>Greenwich Village North</td>\n",
       "    </tr>\n",
       "  </tbody>\n",
       "</table>\n",
       "</div>"
      ],
      "text/plain": [
       "  pickup_borough                   pickup_zone dropoff_borough  \\\n",
       "0      Manhattan  Penn Station/Madison Sq West       Manhattan   \n",
       "1      Manhattan               Lenox Hill East       Manhattan   \n",
       "2      Manhattan         Upper East Side North       Manhattan   \n",
       "3      Manhattan                  East Village       Manhattan   \n",
       "4      Manhattan                          SoHo       Manhattan   \n",
       "5      Manhattan               Lower East Side       Manhattan   \n",
       "6         Queens             LaGuardia Airport        Brooklyn   \n",
       "7      Manhattan     West Chelsea/Hudson Yards       Manhattan   \n",
       "8      Manhattan                Midtown Center       Manhattan   \n",
       "9      Manhattan       Greenwich Village North       Manhattan   \n",
       "\n",
       "              dropoff_zone  \n",
       "0             East Village  \n",
       "1    Upper East Side North  \n",
       "2             East Village  \n",
       "3                     SoHo  \n",
       "4          Lower East Side  \n",
       "5          Lenox Hill West  \n",
       "6               Park Slope  \n",
       "7     TriBeCa/Civic Center  \n",
       "8       World Trade Center  \n",
       "9  Greenwich Village North  "
      ]
     },
     "execution_count": 11,
     "metadata": {},
     "output_type": "execute_result"
    }
   ],
   "source": [
    "df[['pickup_borough', 'pickup_zone', 'dropoff_borough', 'dropoff_zone']].head(10)"
   ]
  },
  {
   "cell_type": "markdown",
   "id": "e750df9b",
   "metadata": {},
   "source": [
    "**Observation**\n",
    "\n",
    "Since the categorical features contain missing values I will impute them using Unknown"
   ]
  },
  {
   "cell_type": "code",
   "execution_count": 12,
   "id": "c695138d",
   "metadata": {},
   "outputs": [],
   "source": [
    "df['pickup_borough'].fillna('Unknown', inplace=True)\n",
    "df['pickup_zone'].fillna('Unknown', inplace=True)\n",
    "df['dropoff_borough'].fillna('Unknown', inplace=True)\n",
    "df['dropoff_zone'].fillna('Unknown', inplace=True)"
   ]
  },
  {
   "cell_type": "code",
   "execution_count": 13,
   "id": "4ab2c453",
   "metadata": {},
   "outputs": [],
   "source": [
    "df_model = df[features + [target]].copy()"
   ]
  },
  {
   "cell_type": "code",
   "execution_count": 14,
   "id": "ef9d93b4",
   "metadata": {},
   "outputs": [
    {
     "data": {
      "text/plain": [
       "trip_distance               0\n",
       "passenger_count             0\n",
       "pick_hour                   0\n",
       "pick_day                    0\n",
       "pick_month                  0\n",
       "pick_weekday                0\n",
       "vendor_name                 0\n",
       "rate_code_description       0\n",
       "payment_type_description    0\n",
       "pickup_borough              0\n",
       "pickup_zone                 0\n",
       "dropoff_borough             0\n",
       "dropoff_zone                0\n",
       "fare_amount                 0\n",
       "dtype: int64"
      ]
     },
     "execution_count": 14,
     "metadata": {},
     "output_type": "execute_result"
    }
   ],
   "source": [
    "df_model.isna().sum()"
   ]
  },
  {
   "cell_type": "code",
   "execution_count": 15,
   "id": "2c3ef9e0",
   "metadata": {},
   "outputs": [
    {
     "name": "stdout",
     "output_type": "stream",
     "text": [
      "<class 'pandas.core.frame.DataFrame'>\n",
      "Int64Index: 2795799 entries, 0 to 2795798\n",
      "Data columns (total 14 columns):\n",
      " #   Column                    Dtype  \n",
      "---  ------                    -----  \n",
      " 0   trip_distance             float64\n",
      " 1   passenger_count           int64  \n",
      " 2   pick_hour                 int64  \n",
      " 3   pick_day                  int64  \n",
      " 4   pick_month                int64  \n",
      " 5   pick_weekday              object \n",
      " 6   vendor_name               object \n",
      " 7   rate_code_description     object \n",
      " 8   payment_type_description  object \n",
      " 9   pickup_borough            object \n",
      " 10  pickup_zone               object \n",
      " 11  dropoff_borough           object \n",
      " 12  dropoff_zone              object \n",
      " 13  fare_amount               float64\n",
      "dtypes: float64(2), int64(4), object(8)\n",
      "memory usage: 320.0+ MB\n"
     ]
    }
   ],
   "source": [
    "df_model.info()"
   ]
  },
  {
   "cell_type": "code",
   "execution_count": 16,
   "id": "d432ed6c",
   "metadata": {},
   "outputs": [],
   "source": [
    "# 5. Define feature types\n",
    "categorical_features = [\n",
    "    'vendor_name', 'rate_code_description', 'payment_type_description',\n",
    "    'pickup_borough', 'pickup_zone', 'dropoff_borough', 'dropoff_zone',\n",
    "    'pick_weekday'  # <== FIX: move here\n",
    "]\n",
    "\n",
    "numeric_features = [\n",
    "    'trip_distance', 'passenger_count', 'pick_hour', 'pick_day', 'pick_month'\n",
    "]"
   ]
  },
  {
   "cell_type": "code",
   "execution_count": 17,
   "id": "da27fe0c",
   "metadata": {},
   "outputs": [],
   "source": [
    "# 6. Preprocessing: One-hot encode categoricals, scale numerics\n",
    "preprocessor = ColumnTransformer([\n",
    "    ('cat', OneHotEncoder(handle_unknown='ignore'), categorical_features),\n",
    "    ('num', StandardScaler(), numeric_features)\n",
    "])"
   ]
  },
  {
   "cell_type": "code",
   "execution_count": 21,
   "id": "a0b2e1b0",
   "metadata": {},
   "outputs": [],
   "source": [
    "# 7. Define model pipeline\n",
    "model = Pipeline(steps=[\n",
    "    ('preprocessor', preprocessor),\n",
    "    ('regressor', RandomForestRegressor(n_estimators=100, random_state=42))\n",
    "])"
   ]
  },
  {
   "cell_type": "code",
   "execution_count": 22,
   "id": "92927009",
   "metadata": {},
   "outputs": [],
   "source": [
    "# 8. Train-test split\n",
    "X = df_model[features]\n",
    "y = df_model[target]\n",
    "X_train, X_test, y_train, y_test = train_test_split(X, y, test_size=0.2, random_state=42)"
   ]
  },
  {
   "cell_type": "code",
   "execution_count": null,
   "id": "b3e8a7fd",
   "metadata": {},
   "outputs": [],
   "source": [
    "# 9. Fit the model\n",
    "model.fit(X_train, y_train)"
   ]
  },
  {
   "cell_type": "code",
   "execution_count": null,
   "id": "6ab88b46",
   "metadata": {},
   "outputs": [],
   "source": [
    "# 10. Predict and evaluate\n",
    "y_pred = model.predict(X_test)\n",
    "rmse = np.sqrt(mean_squared_error(y_test, y_pred))\n",
    "r2 = r2_score(y_test, y_pred)"
   ]
  },
  {
   "cell_type": "code",
   "execution_count": null,
   "id": "f490b8e8",
   "metadata": {},
   "outputs": [],
   "source": [
    "print(f\"✅ RMSE: {rmse:.2f}\")\n",
    "print(f\"✅ R² Score: {r2:.2f}\")"
   ]
  },
  {
   "cell_type": "code",
   "execution_count": null,
   "id": "df304491",
   "metadata": {},
   "outputs": [],
   "source": [
    "import joblib\n",
    "\n",
    "# Save pipeline to a file\n",
    "joblib.dump(model, 'fare_amount_prediction_model.pkl')\n",
    "\n",
    "print(\"✅ Model saved as 'fare_amount_prediction_model.pkl'\")"
   ]
  },
  {
   "cell_type": "code",
   "execution_count": null,
   "id": "0dce36e3",
   "metadata": {},
   "outputs": [],
   "source": []
  },
  {
   "cell_type": "code",
   "execution_count": null,
   "id": "f6cc0fb0",
   "metadata": {},
   "outputs": [],
   "source": []
  },
  {
   "cell_type": "code",
   "execution_count": null,
   "id": "f0594526",
   "metadata": {},
   "outputs": [],
   "source": []
  },
  {
   "cell_type": "code",
   "execution_count": 18,
   "id": "7b9c671c",
   "metadata": {},
   "outputs": [],
   "source": [
    "import pandas as pd\n",
    "import numpy as np\n",
    "from sklearn.model_selection import train_test_split\n",
    "from sklearn.pipeline import Pipeline\n",
    "from sklearn.compose import ColumnTransformer\n",
    "from sklearn.preprocessing import OneHotEncoder, StandardScaler\n",
    "from sklearn.metrics import mean_squared_error, r2_score\n",
    "\n",
    "from sklearn.linear_model import LinearRegression\n",
    "from sklearn.ensemble import RandomForestRegressor, GradientBoostingRegressor, HistGradientBoostingRegressor\n",
    "from xgboost import XGBRegressor"
   ]
  },
  {
   "cell_type": "code",
   "execution_count": 19,
   "id": "a4e1bc32",
   "metadata": {},
   "outputs": [],
   "source": [
    "# Sample data\n",
    "df_sample = df[features + [target]].sample(n=100_000, random_state=42).copy()"
   ]
  },
  {
   "cell_type": "code",
   "execution_count": 20,
   "id": "ef1b3920",
   "metadata": {},
   "outputs": [],
   "source": [
    "X = df_sample[features]\n",
    "y = df_sample[target]"
   ]
  },
  {
   "cell_type": "code",
   "execution_count": 21,
   "id": "2e4acc2c",
   "metadata": {},
   "outputs": [],
   "source": [
    "X_train, X_test, y_train, y_test = train_test_split(X, y, test_size=0.2, random_state=42)"
   ]
  },
  {
   "cell_type": "code",
   "execution_count": 22,
   "id": "6ace93bd",
   "metadata": {},
   "outputs": [],
   "source": [
    "# Define feature types\n",
    "categorical_features = [\n",
    "    'vendor_name', 'rate_code_description', 'payment_type_description',\n",
    "    'pickup_borough', 'pickup_zone', 'dropoff_borough', 'dropoff_zone',\n",
    "    'pick_weekday'\n",
    "]\n",
    "\n",
    "numeric_features = [\n",
    "    'trip_distance', 'passenger_count', 'pick_hour', 'pick_day', 'pick_month'\n",
    "]"
   ]
  },
  {
   "cell_type": "code",
   "execution_count": 23,
   "id": "8c0e8533",
   "metadata": {},
   "outputs": [],
   "source": [
    "# Preprocessor\n",
    "preprocessor = ColumnTransformer([\n",
    "    ('cat', OneHotEncoder(handle_unknown='ignore'), categorical_features),\n",
    "    ('num', StandardScaler(), numeric_features)\n",
    "])"
   ]
  },
  {
   "cell_type": "code",
   "execution_count": 27,
   "id": "e399a17d",
   "metadata": {},
   "outputs": [],
   "source": [
    "# Models to try\n",
    "models = {\n",
    "    \"Linear Regression\": LinearRegression(),\n",
    "    \"Random Forest\": RandomForestRegressor(n_estimators=50, n_jobs=-1, random_state=42),\n",
    "    \"Gradient Boosting\": GradientBoostingRegressor(n_estimators=100, random_state=42),\n",
    "    \"XGBoost\": XGBRegressor(n_estimators=100, tree_method=\"gpu_hist\", predictor=\"gpu_predictor\", random_state=42)\n",
    "}"
   ]
  },
  {
   "cell_type": "code",
   "execution_count": 28,
   "id": "2a3d36da",
   "metadata": {},
   "outputs": [],
   "source": [
    "# Evaluate all models\n",
    "results = []"
   ]
  },
  {
   "cell_type": "code",
   "execution_count": 29,
   "id": "7e205639",
   "metadata": {},
   "outputs": [
    {
     "name": "stdout",
     "output_type": "stream",
     "text": [
      "\n",
      "⏳ Training Linear Regression...\n",
      "✅ Linear Regression → RMSE: 8.51, R²: 0.7846\n",
      "\n",
      "⏳ Training Random Forest...\n",
      "✅ Random Forest → RMSE: 7.72, R²: 0.8227\n",
      "\n",
      "⏳ Training Gradient Boosting...\n",
      "✅ Gradient Boosting → RMSE: 7.65, R²: 0.8259\n",
      "\n",
      "⏳ Training XGBoost...\n",
      "✅ XGBoost → RMSE: 8.12, R²: 0.8037\n"
     ]
    }
   ],
   "source": [
    "for name, reg in models.items():\n",
    "    pipe = Pipeline([\n",
    "        ('preprocessor', preprocessor),\n",
    "        ('regressor', reg)\n",
    "    ])\n",
    "    \n",
    "    print(f\"\\n⏳ Training {name}...\")\n",
    "    pipe.fit(X_train, y_train)\n",
    "    y_pred = pipe.predict(X_test)\n",
    "    \n",
    "    rmse = np.sqrt(mean_squared_error(y_test, y_pred))\n",
    "    r2 = r2_score(y_test, y_pred)\n",
    "    \n",
    "    print(f\"✅ {name} → RMSE: {rmse:.2f}, R²: {r2:.4f}\")\n",
    "    results.append((name, rmse, r2))"
   ]
  },
  {
   "cell_type": "code",
   "execution_count": 30,
   "id": "466f5f4b",
   "metadata": {},
   "outputs": [
    {
     "name": "stdout",
     "output_type": "stream",
     "text": [
      "\n",
      "📊 Model Comparison:\n",
      "Gradient Boosting         | RMSE: 7.65 | R²: 0.8259\n",
      "Random Forest             | RMSE: 7.72 | R²: 0.8227\n",
      "XGBoost                   | RMSE: 8.12 | R²: 0.8037\n",
      "Linear Regression         | RMSE: 8.51 | R²: 0.7846\n"
     ]
    }
   ],
   "source": [
    "# Sort and display results\n",
    "results.sort(key=lambda x: x[1])  # Sort by RMSE\n",
    "print(\"\\n📊 Model Comparison:\")\n",
    "\n",
    "for name, rmse, r2 in results:\n",
    "    print(f\"{name:<25} | RMSE: {rmse:.2f} | R²: {r2:.4f}\")"
   ]
  },
  {
   "cell_type": "code",
   "execution_count": null,
   "id": "949f49ed",
   "metadata": {},
   "outputs": [],
   "source": []
  },
  {
   "cell_type": "code",
   "execution_count": null,
   "id": "1046aa13",
   "metadata": {},
   "outputs": [],
   "source": []
  },
  {
   "cell_type": "code",
   "execution_count": 31,
   "id": "b9a2871b",
   "metadata": {},
   "outputs": [],
   "source": [
    "best_model_name = \"Gradient Boosting\""
   ]
  },
  {
   "cell_type": "code",
   "execution_count": 32,
   "id": "c86c0f8e",
   "metadata": {},
   "outputs": [],
   "source": [
    "from sklearn.ensemble import GradientBoostingRegressor\n",
    "from sklearn.pipeline import Pipeline\n",
    "from sklearn.compose import ColumnTransformer\n",
    "from sklearn.preprocessing import OneHotEncoder, StandardScaler\n",
    "import joblib\n",
    "\n",
    "# Reuse these\n",
    "categorical_features = [\n",
    "    'vendor_name', 'rate_code_description', 'payment_type_description',\n",
    "    'pickup_borough', 'pickup_zone', 'dropoff_borough', 'dropoff_zone',\n",
    "    'pick_weekday'\n",
    "]\n",
    "numeric_features = [\n",
    "    'trip_distance', 'passenger_count', 'pick_hour', 'pick_day', 'pick_month'\n",
    "]\n",
    "\n",
    "# Preprocessing pipeline\n",
    "preprocessor = ColumnTransformer([\n",
    "    ('cat', OneHotEncoder(handle_unknown='ignore'), categorical_features),\n",
    "    ('num', StandardScaler(), numeric_features)\n",
    "])\n",
    "\n",
    "# Final model pipeline\n",
    "final_model = Pipeline([\n",
    "    ('preprocessor', preprocessor),\n",
    "    ('regressor', GradientBoostingRegressor(n_estimators=100, random_state=42))\n",
    "])"
   ]
  },
  {
   "cell_type": "code",
   "execution_count": 33,
   "id": "ee74a029",
   "metadata": {},
   "outputs": [
    {
     "data": {
      "text/html": [
       "<style>#sk-container-id-1 {color: black;background-color: white;}#sk-container-id-1 pre{padding: 0;}#sk-container-id-1 div.sk-toggleable {background-color: white;}#sk-container-id-1 label.sk-toggleable__label {cursor: pointer;display: block;width: 100%;margin-bottom: 0;padding: 0.3em;box-sizing: border-box;text-align: center;}#sk-container-id-1 label.sk-toggleable__label-arrow:before {content: \"▸\";float: left;margin-right: 0.25em;color: #696969;}#sk-container-id-1 label.sk-toggleable__label-arrow:hover:before {color: black;}#sk-container-id-1 div.sk-estimator:hover label.sk-toggleable__label-arrow:before {color: black;}#sk-container-id-1 div.sk-toggleable__content {max-height: 0;max-width: 0;overflow: hidden;text-align: left;background-color: #f0f8ff;}#sk-container-id-1 div.sk-toggleable__content pre {margin: 0.2em;color: black;border-radius: 0.25em;background-color: #f0f8ff;}#sk-container-id-1 input.sk-toggleable__control:checked~div.sk-toggleable__content {max-height: 200px;max-width: 100%;overflow: auto;}#sk-container-id-1 input.sk-toggleable__control:checked~label.sk-toggleable__label-arrow:before {content: \"▾\";}#sk-container-id-1 div.sk-estimator input.sk-toggleable__control:checked~label.sk-toggleable__label {background-color: #d4ebff;}#sk-container-id-1 div.sk-label input.sk-toggleable__control:checked~label.sk-toggleable__label {background-color: #d4ebff;}#sk-container-id-1 input.sk-hidden--visually {border: 0;clip: rect(1px 1px 1px 1px);clip: rect(1px, 1px, 1px, 1px);height: 1px;margin: -1px;overflow: hidden;padding: 0;position: absolute;width: 1px;}#sk-container-id-1 div.sk-estimator {font-family: monospace;background-color: #f0f8ff;border: 1px dotted black;border-radius: 0.25em;box-sizing: border-box;margin-bottom: 0.5em;}#sk-container-id-1 div.sk-estimator:hover {background-color: #d4ebff;}#sk-container-id-1 div.sk-parallel-item::after {content: \"\";width: 100%;border-bottom: 1px solid gray;flex-grow: 1;}#sk-container-id-1 div.sk-label:hover label.sk-toggleable__label {background-color: #d4ebff;}#sk-container-id-1 div.sk-serial::before {content: \"\";position: absolute;border-left: 1px solid gray;box-sizing: border-box;top: 0;bottom: 0;left: 50%;z-index: 0;}#sk-container-id-1 div.sk-serial {display: flex;flex-direction: column;align-items: center;background-color: white;padding-right: 0.2em;padding-left: 0.2em;position: relative;}#sk-container-id-1 div.sk-item {position: relative;z-index: 1;}#sk-container-id-1 div.sk-parallel {display: flex;align-items: stretch;justify-content: center;background-color: white;position: relative;}#sk-container-id-1 div.sk-item::before, #sk-container-id-1 div.sk-parallel-item::before {content: \"\";position: absolute;border-left: 1px solid gray;box-sizing: border-box;top: 0;bottom: 0;left: 50%;z-index: -1;}#sk-container-id-1 div.sk-parallel-item {display: flex;flex-direction: column;z-index: 1;position: relative;background-color: white;}#sk-container-id-1 div.sk-parallel-item:first-child::after {align-self: flex-end;width: 50%;}#sk-container-id-1 div.sk-parallel-item:last-child::after {align-self: flex-start;width: 50%;}#sk-container-id-1 div.sk-parallel-item:only-child::after {width: 0;}#sk-container-id-1 div.sk-dashed-wrapped {border: 1px dashed gray;margin: 0 0.4em 0.5em 0.4em;box-sizing: border-box;padding-bottom: 0.4em;background-color: white;}#sk-container-id-1 div.sk-label label {font-family: monospace;font-weight: bold;display: inline-block;line-height: 1.2em;}#sk-container-id-1 div.sk-label-container {text-align: center;}#sk-container-id-1 div.sk-container {/* jupyter's `normalize.less` sets `[hidden] { display: none; }` but bootstrap.min.css set `[hidden] { display: none !important; }` so we also need the `!important` here to be able to override the default hidden behavior on the sphinx rendered scikit-learn.org. See: https://github.com/scikit-learn/scikit-learn/issues/21755 */display: inline-block !important;position: relative;}#sk-container-id-1 div.sk-text-repr-fallback {display: none;}</style><div id=\"sk-container-id-1\" class=\"sk-top-container\"><div class=\"sk-text-repr-fallback\"><pre>Pipeline(steps=[(&#x27;preprocessor&#x27;,\n",
       "                 ColumnTransformer(transformers=[(&#x27;cat&#x27;,\n",
       "                                                  OneHotEncoder(handle_unknown=&#x27;ignore&#x27;),\n",
       "                                                  [&#x27;vendor_name&#x27;,\n",
       "                                                   &#x27;rate_code_description&#x27;,\n",
       "                                                   &#x27;payment_type_description&#x27;,\n",
       "                                                   &#x27;pickup_borough&#x27;,\n",
       "                                                   &#x27;pickup_zone&#x27;,\n",
       "                                                   &#x27;dropoff_borough&#x27;,\n",
       "                                                   &#x27;dropoff_zone&#x27;,\n",
       "                                                   &#x27;pick_weekday&#x27;]),\n",
       "                                                 (&#x27;num&#x27;, StandardScaler(),\n",
       "                                                  [&#x27;trip_distance&#x27;,\n",
       "                                                   &#x27;passenger_count&#x27;,\n",
       "                                                   &#x27;pick_hour&#x27;, &#x27;pick_day&#x27;,\n",
       "                                                   &#x27;pick_month&#x27;])])),\n",
       "                (&#x27;regressor&#x27;, GradientBoostingRegressor(random_state=42))])</pre><b>In a Jupyter environment, please rerun this cell to show the HTML representation or trust the notebook. <br />On GitHub, the HTML representation is unable to render, please try loading this page with nbviewer.org.</b></div><div class=\"sk-container\" hidden><div class=\"sk-item sk-dashed-wrapped\"><div class=\"sk-label-container\"><div class=\"sk-label sk-toggleable\"><input class=\"sk-toggleable__control sk-hidden--visually\" id=\"sk-estimator-id-1\" type=\"checkbox\" ><label for=\"sk-estimator-id-1\" class=\"sk-toggleable__label sk-toggleable__label-arrow\">Pipeline</label><div class=\"sk-toggleable__content\"><pre>Pipeline(steps=[(&#x27;preprocessor&#x27;,\n",
       "                 ColumnTransformer(transformers=[(&#x27;cat&#x27;,\n",
       "                                                  OneHotEncoder(handle_unknown=&#x27;ignore&#x27;),\n",
       "                                                  [&#x27;vendor_name&#x27;,\n",
       "                                                   &#x27;rate_code_description&#x27;,\n",
       "                                                   &#x27;payment_type_description&#x27;,\n",
       "                                                   &#x27;pickup_borough&#x27;,\n",
       "                                                   &#x27;pickup_zone&#x27;,\n",
       "                                                   &#x27;dropoff_borough&#x27;,\n",
       "                                                   &#x27;dropoff_zone&#x27;,\n",
       "                                                   &#x27;pick_weekday&#x27;]),\n",
       "                                                 (&#x27;num&#x27;, StandardScaler(),\n",
       "                                                  [&#x27;trip_distance&#x27;,\n",
       "                                                   &#x27;passenger_count&#x27;,\n",
       "                                                   &#x27;pick_hour&#x27;, &#x27;pick_day&#x27;,\n",
       "                                                   &#x27;pick_month&#x27;])])),\n",
       "                (&#x27;regressor&#x27;, GradientBoostingRegressor(random_state=42))])</pre></div></div></div><div class=\"sk-serial\"><div class=\"sk-item sk-dashed-wrapped\"><div class=\"sk-label-container\"><div class=\"sk-label sk-toggleable\"><input class=\"sk-toggleable__control sk-hidden--visually\" id=\"sk-estimator-id-2\" type=\"checkbox\" ><label for=\"sk-estimator-id-2\" class=\"sk-toggleable__label sk-toggleable__label-arrow\">preprocessor: ColumnTransformer</label><div class=\"sk-toggleable__content\"><pre>ColumnTransformer(transformers=[(&#x27;cat&#x27;, OneHotEncoder(handle_unknown=&#x27;ignore&#x27;),\n",
       "                                 [&#x27;vendor_name&#x27;, &#x27;rate_code_description&#x27;,\n",
       "                                  &#x27;payment_type_description&#x27;, &#x27;pickup_borough&#x27;,\n",
       "                                  &#x27;pickup_zone&#x27;, &#x27;dropoff_borough&#x27;,\n",
       "                                  &#x27;dropoff_zone&#x27;, &#x27;pick_weekday&#x27;]),\n",
       "                                (&#x27;num&#x27;, StandardScaler(),\n",
       "                                 [&#x27;trip_distance&#x27;, &#x27;passenger_count&#x27;,\n",
       "                                  &#x27;pick_hour&#x27;, &#x27;pick_day&#x27;, &#x27;pick_month&#x27;])])</pre></div></div></div><div class=\"sk-parallel\"><div class=\"sk-parallel-item\"><div class=\"sk-item\"><div class=\"sk-label-container\"><div class=\"sk-label sk-toggleable\"><input class=\"sk-toggleable__control sk-hidden--visually\" id=\"sk-estimator-id-3\" type=\"checkbox\" ><label for=\"sk-estimator-id-3\" class=\"sk-toggleable__label sk-toggleable__label-arrow\">cat</label><div class=\"sk-toggleable__content\"><pre>[&#x27;vendor_name&#x27;, &#x27;rate_code_description&#x27;, &#x27;payment_type_description&#x27;, &#x27;pickup_borough&#x27;, &#x27;pickup_zone&#x27;, &#x27;dropoff_borough&#x27;, &#x27;dropoff_zone&#x27;, &#x27;pick_weekday&#x27;]</pre></div></div></div><div class=\"sk-serial\"><div class=\"sk-item\"><div class=\"sk-estimator sk-toggleable\"><input class=\"sk-toggleable__control sk-hidden--visually\" id=\"sk-estimator-id-4\" type=\"checkbox\" ><label for=\"sk-estimator-id-4\" class=\"sk-toggleable__label sk-toggleable__label-arrow\">OneHotEncoder</label><div class=\"sk-toggleable__content\"><pre>OneHotEncoder(handle_unknown=&#x27;ignore&#x27;)</pre></div></div></div></div></div></div><div class=\"sk-parallel-item\"><div class=\"sk-item\"><div class=\"sk-label-container\"><div class=\"sk-label sk-toggleable\"><input class=\"sk-toggleable__control sk-hidden--visually\" id=\"sk-estimator-id-5\" type=\"checkbox\" ><label for=\"sk-estimator-id-5\" class=\"sk-toggleable__label sk-toggleable__label-arrow\">num</label><div class=\"sk-toggleable__content\"><pre>[&#x27;trip_distance&#x27;, &#x27;passenger_count&#x27;, &#x27;pick_hour&#x27;, &#x27;pick_day&#x27;, &#x27;pick_month&#x27;]</pre></div></div></div><div class=\"sk-serial\"><div class=\"sk-item\"><div class=\"sk-estimator sk-toggleable\"><input class=\"sk-toggleable__control sk-hidden--visually\" id=\"sk-estimator-id-6\" type=\"checkbox\" ><label for=\"sk-estimator-id-6\" class=\"sk-toggleable__label sk-toggleable__label-arrow\">StandardScaler</label><div class=\"sk-toggleable__content\"><pre>StandardScaler()</pre></div></div></div></div></div></div></div></div><div class=\"sk-item\"><div class=\"sk-estimator sk-toggleable\"><input class=\"sk-toggleable__control sk-hidden--visually\" id=\"sk-estimator-id-7\" type=\"checkbox\" ><label for=\"sk-estimator-id-7\" class=\"sk-toggleable__label sk-toggleable__label-arrow\">GradientBoostingRegressor</label><div class=\"sk-toggleable__content\"><pre>GradientBoostingRegressor(random_state=42)</pre></div></div></div></div></div></div></div>"
      ],
      "text/plain": [
       "Pipeline(steps=[('preprocessor',\n",
       "                 ColumnTransformer(transformers=[('cat',\n",
       "                                                  OneHotEncoder(handle_unknown='ignore'),\n",
       "                                                  ['vendor_name',\n",
       "                                                   'rate_code_description',\n",
       "                                                   'payment_type_description',\n",
       "                                                   'pickup_borough',\n",
       "                                                   'pickup_zone',\n",
       "                                                   'dropoff_borough',\n",
       "                                                   'dropoff_zone',\n",
       "                                                   'pick_weekday']),\n",
       "                                                 ('num', StandardScaler(),\n",
       "                                                  ['trip_distance',\n",
       "                                                   'passenger_count',\n",
       "                                                   'pick_hour', 'pick_day',\n",
       "                                                   'pick_month'])])),\n",
       "                ('regressor', GradientBoostingRegressor(random_state=42))])"
      ]
     },
     "execution_count": 33,
     "metadata": {},
     "output_type": "execute_result"
    }
   ],
   "source": [
    "# Fit on full sampled dataset\n",
    "final_model.fit(X_train, y_train)"
   ]
  },
  {
   "cell_type": "code",
   "execution_count": 34,
   "id": "95ccf08d",
   "metadata": {},
   "outputs": [
    {
     "name": "stdout",
     "output_type": "stream",
     "text": [
      "✅ Best model saved as 'best_fare_prediction_model.pkl'\n"
     ]
    }
   ],
   "source": [
    "\n",
    "# Save to file\n",
    "joblib.dump(final_model, 'best_fare_prediction_model.pkl')\n",
    "print(\"✅ Best model saved as 'best_fare_prediction_model.pkl'\")\n"
   ]
  },
  {
   "cell_type": "code",
   "execution_count": 35,
   "id": "c43fd7d6",
   "metadata": {},
   "outputs": [
    {
     "name": "stdout",
     "output_type": "stream",
     "text": [
      "🎯 Actual: 19.10 | 🔮 Predicted: 11.01\n",
      "🎯 Actual: 13.50 | 🔮 Predicted: 12.56\n",
      "🎯 Actual: 9.30 | 🔮 Predicted: 13.06\n",
      "🎯 Actual: 53.40 | 🔮 Predicted: 57.85\n",
      "🎯 Actual: 28.90 | 🔮 Predicted: 18.01\n",
      "🎯 Actual: 16.30 | 🔮 Predicted: 15.73\n",
      "🎯 Actual: 24.00 | 🔮 Predicted: 16.57\n",
      "🎯 Actual: 18.40 | 🔮 Predicted: 14.97\n",
      "🎯 Actual: 27.50 | 🔮 Predicted: 28.13\n",
      "🎯 Actual: 70.00 | 🔮 Predicted: 69.97\n"
     ]
    }
   ],
   "source": [
    "import joblib\n",
    "import pandas as pd\n",
    "\n",
    "# 1. Load the saved model\n",
    "model = joblib.load('best_fare_prediction_model.pkl')\n",
    "\n",
    "# 2. (Optional) Test on your existing test set\n",
    "# Make predictions\n",
    "y_pred = model.predict(X_test)\n",
    "\n",
    "# Compare predictions with actual values\n",
    "for actual, pred in zip(y_test[:10], y_pred[:10]):\n",
    "    print(f\"🎯 Actual: {actual:.2f} | 🔮 Predicted: {pred:.2f}\")"
   ]
  },
  {
   "cell_type": "code",
   "execution_count": 36,
   "id": "ac64ec8c",
   "metadata": {},
   "outputs": [],
   "source": [
    "# 3. Create a sample input row (replace with actual values)\n",
    "sample_input = pd.DataFrame([{\n",
    "    'trip_distance': 2.5,\n",
    "    'passenger_count': 1,\n",
    "    'pick_hour': 14,\n",
    "    'pick_day': 12,\n",
    "    'pick_month': 5,\n",
    "    'pick_weekday': 'Mon',\n",
    "    'vendor_name': 'VTS',\n",
    "    'rate_code_description': 'Standard rate',\n",
    "    'payment_type_description': 'Credit card',\n",
    "    'pickup_borough': 'Manhattan',\n",
    "    'pickup_zone': 'Midtown Center',\n",
    "    'dropoff_borough': 'Manhattan',\n",
    "    'dropoff_zone': 'Upper East Side South'\n",
    "}])"
   ]
  },
  {
   "cell_type": "code",
   "execution_count": 38,
   "id": "5d16942d",
   "metadata": {},
   "outputs": [
    {
     "name": "stdout",
     "output_type": "stream",
     "text": [
      "💰 Predicted Fare Amount: $16.57\n"
     ]
    }
   ],
   "source": [
    "\n",
    "# 4. Predict fare\n",
    "predicted_fare = model.predict(sample_input)\n",
    "print(f\"💰 Predicted Fare Amount: ${predicted_fare[0]:.2f}\")"
   ]
  },
  {
   "cell_type": "code",
   "execution_count": null,
   "id": "cad09834",
   "metadata": {},
   "outputs": [],
   "source": []
  }
 ],
 "metadata": {
  "kernelspec": {
   "display_name": "Python 3 (ipykernel)",
   "language": "python",
   "name": "python3"
  },
  "language_info": {
   "codemirror_mode": {
    "name": "ipython",
    "version": 3
   },
   "file_extension": ".py",
   "mimetype": "text/x-python",
   "name": "python",
   "nbconvert_exporter": "python",
   "pygments_lexer": "ipython3",
   "version": "3.10.9"
  }
 },
 "nbformat": 4,
 "nbformat_minor": 5
}
