{
 "cells": [
  {
   "cell_type": "markdown",
   "id": "f5bd54e2",
   "metadata": {},
   "source": [
    "## Importing libraries"
   ]
  },
  {
   "cell_type": "code",
   "execution_count": 1,
   "id": "93802420",
   "metadata": {},
   "outputs": [],
   "source": [
    "import pandas as pd\n",
    "from sklearn.model_selection import train_test_split\n",
    "from sklearn.preprocessing import OneHotEncoder, StandardScaler\n",
    "from sklearn.compose import ColumnTransformer\n",
    "from sklearn.pipeline import Pipeline\n",
    "from sklearn.ensemble import RandomForestRegressor\n",
    "from sklearn.metrics import mean_squared_error, r2_score\n",
    "import numpy as np\n",
    "import seaborn as sns\n",
    "import matplotlib.pyplot as plt\n",
    "from sklearn.linear_model import LinearRegression\n",
    "from sklearn.ensemble import RandomForestRegressor, GradientBoostingRegressor, HistGradientBoostingRegressor\n",
    "from xgboost import XGBRegressor"
   ]
  },
  {
   "cell_type": "markdown",
   "id": "4ec66dd0",
   "metadata": {},
   "source": [
    "## Loading data"
   ]
  },
  {
   "cell_type": "code",
   "execution_count": 2,
   "id": "ac698d96",
   "metadata": {},
   "outputs": [],
   "source": [
    "fact = pd.read_csv(\"../Processed_Files/fact_trips.csv\")\n",
    "datetime = pd.read_csv(\"../Processed_Files/datetime_dim.csv\")\n",
    "pickup_loc = pd.read_csv(\"../Processed_Files/pickup_location_dim.csv\")\n",
    "dropoff_loc = pd.read_csv(\"../Processed_Files/dropoff_location_dim.csv\")\n",
    "payment = pd.read_csv(\"../Processed_Files/payment_type_dim.csv\")\n",
    "vendor = pd.read_csv(\"../Processed_Files/vendor_dim.csv\")\n",
    "rate_code = pd.read_csv(\"../Processed_Files/rate_code_dim.csv\")"
   ]
  },
  {
   "cell_type": "markdown",
   "id": "3fec3b77",
   "metadata": {},
   "source": [
    "**Merging Data**"
   ]
  },
  {
   "cell_type": "code",
   "execution_count": 3,
   "id": "b745b734",
   "metadata": {},
   "outputs": [],
   "source": [
    "df = fact.merge(datetime, on='datetime_id', how='left') \\\n",
    "         .merge(pickup_loc, on='pickup_location_id', how='left') \\\n",
    "         .merge(dropoff_loc, on='dropoff_location_id', how='left') \\\n",
    "         .merge(payment, on='payment_type_id', how='left') \\\n",
    "         .merge(vendor, on='vendor_id', how='left') \\\n",
    "         .merge(rate_code, on='rate_code_id', how='left')"
   ]
  },
  {
   "cell_type": "code",
   "execution_count": 4,
   "id": "3918c3f9",
   "metadata": {},
   "outputs": [
    {
     "data": {
      "text/plain": [
       "Index(['vendor_id', 'rate_code_id', 'payment_type_id', 'pickup_location_id',\n",
       "       'dropoff_location_id', 'datetime_id', 'passenger_count',\n",
       "       'trip_distance', 'fare_amount', 'extra', 'mta_tax', 'tip_amount',\n",
       "       'tolls_amount', 'total_amount', 'congestion_surcharge', 'airport_fee',\n",
       "       'trip_id', 'pickup_datetime', 'dropoff_datetime', 'pick_hour',\n",
       "       'pick_day', 'pick_month', 'pick_year', 'pick_weekday', 'drop_hour',\n",
       "       'drop_day', 'drop_month', 'drop_year', 'drop_weekday', 'pickup_borough',\n",
       "       'pickup_zone', 'pickup_service_zone', 'dropoff_borough', 'dropoff_zone',\n",
       "       'dropoff_service_zone', 'payment_type_description', 'vendor_name',\n",
       "       'rate_code_description'],\n",
       "      dtype='object')"
      ]
     },
     "execution_count": 4,
     "metadata": {},
     "output_type": "execute_result"
    }
   ],
   "source": [
    "df.columns"
   ]
  },
  {
   "cell_type": "code",
   "execution_count": 5,
   "id": "d3498c22",
   "metadata": {},
   "outputs": [
    {
     "data": {
      "text/html": [
       "<div>\n",
       "<style scoped>\n",
       "    .dataframe tbody tr th:only-of-type {\n",
       "        vertical-align: middle;\n",
       "    }\n",
       "\n",
       "    .dataframe tbody tr th {\n",
       "        vertical-align: top;\n",
       "    }\n",
       "\n",
       "    .dataframe thead th {\n",
       "        text-align: right;\n",
       "    }\n",
       "</style>\n",
       "<table border=\"1\" class=\"dataframe\">\n",
       "  <thead>\n",
       "    <tr style=\"text-align: right;\">\n",
       "      <th></th>\n",
       "      <th>vendor_id</th>\n",
       "      <th>rate_code_id</th>\n",
       "      <th>payment_type_id</th>\n",
       "      <th>pickup_location_id</th>\n",
       "      <th>dropoff_location_id</th>\n",
       "      <th>datetime_id</th>\n",
       "      <th>passenger_count</th>\n",
       "      <th>trip_distance</th>\n",
       "      <th>fare_amount</th>\n",
       "      <th>extra</th>\n",
       "      <th>...</th>\n",
       "      <th>drop_weekday</th>\n",
       "      <th>pickup_borough</th>\n",
       "      <th>pickup_zone</th>\n",
       "      <th>pickup_service_zone</th>\n",
       "      <th>dropoff_borough</th>\n",
       "      <th>dropoff_zone</th>\n",
       "      <th>dropoff_service_zone</th>\n",
       "      <th>payment_type_description</th>\n",
       "      <th>vendor_name</th>\n",
       "      <th>rate_code_description</th>\n",
       "    </tr>\n",
       "  </thead>\n",
       "  <tbody>\n",
       "    <tr>\n",
       "      <th>0</th>\n",
       "      <td>2</td>\n",
       "      <td>1</td>\n",
       "      <td>2</td>\n",
       "      <td>186</td>\n",
       "      <td>79</td>\n",
       "      <td>68719533120</td>\n",
       "      <td>1</td>\n",
       "      <td>1.72</td>\n",
       "      <td>17.7</td>\n",
       "      <td>1.0</td>\n",
       "      <td>...</td>\n",
       "      <td>Mon</td>\n",
       "      <td>Manhattan</td>\n",
       "      <td>Penn Station/Madison Sq West</td>\n",
       "      <td>Yellow Zone</td>\n",
       "      <td>Manhattan</td>\n",
       "      <td>East Village</td>\n",
       "      <td>Yellow Zone</td>\n",
       "      <td>Cash</td>\n",
       "      <td>VeriFone Inc.</td>\n",
       "      <td>Standard rate</td>\n",
       "    </tr>\n",
       "    <tr>\n",
       "      <th>1</th>\n",
       "      <td>1</td>\n",
       "      <td>1</td>\n",
       "      <td>1</td>\n",
       "      <td>140</td>\n",
       "      <td>236</td>\n",
       "      <td>51539649082</td>\n",
       "      <td>1</td>\n",
       "      <td>1.80</td>\n",
       "      <td>10.0</td>\n",
       "      <td>3.5</td>\n",
       "      <td>...</td>\n",
       "      <td>Mon</td>\n",
       "      <td>Manhattan</td>\n",
       "      <td>Lenox Hill East</td>\n",
       "      <td>Yellow Zone</td>\n",
       "      <td>Manhattan</td>\n",
       "      <td>Upper East Side North</td>\n",
       "      <td>Yellow Zone</td>\n",
       "      <td>Credit card</td>\n",
       "      <td>Creative Mobile Technologies, LLC</td>\n",
       "      <td>Standard rate</td>\n",
       "    </tr>\n",
       "    <tr>\n",
       "      <th>2</th>\n",
       "      <td>1</td>\n",
       "      <td>1</td>\n",
       "      <td>1</td>\n",
       "      <td>236</td>\n",
       "      <td>79</td>\n",
       "      <td>25769827335</td>\n",
       "      <td>1</td>\n",
       "      <td>4.70</td>\n",
       "      <td>23.3</td>\n",
       "      <td>3.5</td>\n",
       "      <td>...</td>\n",
       "      <td>Mon</td>\n",
       "      <td>Manhattan</td>\n",
       "      <td>Upper East Side North</td>\n",
       "      <td>Yellow Zone</td>\n",
       "      <td>Manhattan</td>\n",
       "      <td>East Village</td>\n",
       "      <td>Yellow Zone</td>\n",
       "      <td>Credit card</td>\n",
       "      <td>Creative Mobile Technologies, LLC</td>\n",
       "      <td>Standard rate</td>\n",
       "    </tr>\n",
       "    <tr>\n",
       "      <th>3</th>\n",
       "      <td>1</td>\n",
       "      <td>1</td>\n",
       "      <td>1</td>\n",
       "      <td>79</td>\n",
       "      <td>211</td>\n",
       "      <td>8589996090</td>\n",
       "      <td>1</td>\n",
       "      <td>1.40</td>\n",
       "      <td>10.0</td>\n",
       "      <td>3.5</td>\n",
       "      <td>...</td>\n",
       "      <td>Mon</td>\n",
       "      <td>Manhattan</td>\n",
       "      <td>East Village</td>\n",
       "      <td>Yellow Zone</td>\n",
       "      <td>Manhattan</td>\n",
       "      <td>SoHo</td>\n",
       "      <td>Yellow Zone</td>\n",
       "      <td>Credit card</td>\n",
       "      <td>Creative Mobile Technologies, LLC</td>\n",
       "      <td>Standard rate</td>\n",
       "    </tr>\n",
       "    <tr>\n",
       "      <th>4</th>\n",
       "      <td>1</td>\n",
       "      <td>1</td>\n",
       "      <td>1</td>\n",
       "      <td>211</td>\n",
       "      <td>148</td>\n",
       "      <td>51539635018</td>\n",
       "      <td>1</td>\n",
       "      <td>0.80</td>\n",
       "      <td>7.9</td>\n",
       "      <td>3.5</td>\n",
       "      <td>...</td>\n",
       "      <td>Mon</td>\n",
       "      <td>Manhattan</td>\n",
       "      <td>SoHo</td>\n",
       "      <td>Yellow Zone</td>\n",
       "      <td>Manhattan</td>\n",
       "      <td>Lower East Side</td>\n",
       "      <td>Yellow Zone</td>\n",
       "      <td>Credit card</td>\n",
       "      <td>Creative Mobile Technologies, LLC</td>\n",
       "      <td>Standard rate</td>\n",
       "    </tr>\n",
       "  </tbody>\n",
       "</table>\n",
       "<p>5 rows × 38 columns</p>\n",
       "</div>"
      ],
      "text/plain": [
       "   vendor_id  rate_code_id  payment_type_id  pickup_location_id  \\\n",
       "0          2             1                2                 186   \n",
       "1          1             1                1                 140   \n",
       "2          1             1                1                 236   \n",
       "3          1             1                1                  79   \n",
       "4          1             1                1                 211   \n",
       "\n",
       "   dropoff_location_id  datetime_id  passenger_count  trip_distance  \\\n",
       "0                   79  68719533120                1           1.72   \n",
       "1                  236  51539649082                1           1.80   \n",
       "2                   79  25769827335                1           4.70   \n",
       "3                  211   8589996090                1           1.40   \n",
       "4                  148  51539635018                1           0.80   \n",
       "\n",
       "   fare_amount  extra  ...  drop_weekday  pickup_borough  \\\n",
       "0         17.7    1.0  ...           Mon       Manhattan   \n",
       "1         10.0    3.5  ...           Mon       Manhattan   \n",
       "2         23.3    3.5  ...           Mon       Manhattan   \n",
       "3         10.0    3.5  ...           Mon       Manhattan   \n",
       "4          7.9    3.5  ...           Mon       Manhattan   \n",
       "\n",
       "                    pickup_zone  pickup_service_zone  dropoff_borough  \\\n",
       "0  Penn Station/Madison Sq West          Yellow Zone        Manhattan   \n",
       "1               Lenox Hill East          Yellow Zone        Manhattan   \n",
       "2         Upper East Side North          Yellow Zone        Manhattan   \n",
       "3                  East Village          Yellow Zone        Manhattan   \n",
       "4                          SoHo          Yellow Zone        Manhattan   \n",
       "\n",
       "            dropoff_zone  dropoff_service_zone payment_type_description  \\\n",
       "0           East Village           Yellow Zone                     Cash   \n",
       "1  Upper East Side North           Yellow Zone              Credit card   \n",
       "2           East Village           Yellow Zone              Credit card   \n",
       "3                   SoHo           Yellow Zone              Credit card   \n",
       "4        Lower East Side           Yellow Zone              Credit card   \n",
       "\n",
       "                         vendor_name  rate_code_description  \n",
       "0                      VeriFone Inc.          Standard rate  \n",
       "1  Creative Mobile Technologies, LLC          Standard rate  \n",
       "2  Creative Mobile Technologies, LLC          Standard rate  \n",
       "3  Creative Mobile Technologies, LLC          Standard rate  \n",
       "4  Creative Mobile Technologies, LLC          Standard rate  \n",
       "\n",
       "[5 rows x 38 columns]"
      ]
     },
     "execution_count": 5,
     "metadata": {},
     "output_type": "execute_result"
    }
   ],
   "source": [
    "df.head()"
   ]
  },
  {
   "cell_type": "code",
   "execution_count": 6,
   "id": "0367fcfd",
   "metadata": {},
   "outputs": [
    {
     "name": "stdout",
     "output_type": "stream",
     "text": [
      "Shape:  (2795799, 38)\n",
      "Size:  106240362\n"
     ]
    }
   ],
   "source": [
    "print(\"Shape: \", df.shape)\n",
    "print(\"Size: \", df.size)"
   ]
  },
  {
   "cell_type": "code",
   "execution_count": 7,
   "id": "5a64ca95",
   "metadata": {},
   "outputs": [
    {
     "name": "stdout",
     "output_type": "stream",
     "text": [
      "<class 'pandas.core.frame.DataFrame'>\n",
      "Int64Index: 2795799 entries, 0 to 2795798\n",
      "Data columns (total 38 columns):\n",
      " #   Column                    Dtype  \n",
      "---  ------                    -----  \n",
      " 0   vendor_id                 int64  \n",
      " 1   rate_code_id              int64  \n",
      " 2   payment_type_id           int64  \n",
      " 3   pickup_location_id        int64  \n",
      " 4   dropoff_location_id       int64  \n",
      " 5   datetime_id               int64  \n",
      " 6   passenger_count           int64  \n",
      " 7   trip_distance             float64\n",
      " 8   fare_amount               float64\n",
      " 9   extra                     float64\n",
      " 10  mta_tax                   float64\n",
      " 11  tip_amount                float64\n",
      " 12  tolls_amount              float64\n",
      " 13  total_amount              float64\n",
      " 14  congestion_surcharge      float64\n",
      " 15  airport_fee               float64\n",
      " 16  trip_id                   int64  \n",
      " 17  pickup_datetime           object \n",
      " 18  dropoff_datetime          object \n",
      " 19  pick_hour                 int64  \n",
      " 20  pick_day                  int64  \n",
      " 21  pick_month                int64  \n",
      " 22  pick_year                 int64  \n",
      " 23  pick_weekday              object \n",
      " 24  drop_hour                 int64  \n",
      " 25  drop_day                  int64  \n",
      " 26  drop_month                int64  \n",
      " 27  drop_year                 int64  \n",
      " 28  drop_weekday              object \n",
      " 29  pickup_borough            object \n",
      " 30  pickup_zone               object \n",
      " 31  pickup_service_zone       object \n",
      " 32  dropoff_borough           object \n",
      " 33  dropoff_zone              object \n",
      " 34  dropoff_service_zone      object \n",
      " 35  payment_type_description  object \n",
      " 36  vendor_name               object \n",
      " 37  rate_code_description     object \n",
      "dtypes: float64(9), int64(16), object(13)\n",
      "memory usage: 831.9+ MB\n"
     ]
    }
   ],
   "source": [
    "df.info()"
   ]
  },
  {
   "cell_type": "code",
   "execution_count": 8,
   "id": "d2450ebb",
   "metadata": {},
   "outputs": [
    {
     "name": "stdout",
     "output_type": "stream",
     "text": [
      "Rows with negative total_amount: 35502\n",
      "Percentage of negative total_amount rows: 1.2698%\n"
     ]
    }
   ],
   "source": [
    "# Total number of rows in dataset\n",
    "total_rows = len(df)\n",
    "\n",
    "# Number of rows with negative total_amount\n",
    "negative_rows_count = len(df[df['total_amount'] < 0.0])\n",
    "\n",
    "# Calculate percentage\n",
    "percentage_negative = (negative_rows_count / total_rows) * 100\n",
    "\n",
    "# Display result\n",
    "print(f\"Rows with negative total_amount: {negative_rows_count}\")\n",
    "print(f\"Percentage of negative total_amount rows: {percentage_negative:.4f}%\")"
   ]
  },
  {
   "cell_type": "code",
   "execution_count": 9,
   "id": "749bcc70",
   "metadata": {},
   "outputs": [
    {
     "name": "stdout",
     "output_type": "stream",
     "text": [
      "Remaining negative total_amount values: 0\n"
     ]
    }
   ],
   "source": [
    "# Update total_amount to 0 where it's negative\n",
    "df.loc[df['total_amount'] < 0.0, 'total_amount'] = 0.0\n",
    "\n",
    "# Confirm the change (check if any negative values remain)\n",
    "print(f\"Remaining negative total_amount values: {(df['total_amount'] < 0.0).sum()}\")"
   ]
  },
  {
   "cell_type": "code",
   "execution_count": 10,
   "id": "9e6083cf",
   "metadata": {},
   "outputs": [
    {
     "name": "stdout",
     "output_type": "stream",
     "text": [
      "Rows with negative total_amount: 0\n",
      "Percentage of negative total_amount rows: 0.0000%\n"
     ]
    }
   ],
   "source": [
    "# Total number of rows in dataset\n",
    "total_rows = len(df)\n",
    "\n",
    "# Number of rows with negative total_amount\n",
    "negative_rows_count = len(df[df['total_amount'] < 0.0])\n",
    "\n",
    "# Calculate percentage\n",
    "percentage_negative = (negative_rows_count / total_rows) * 100\n",
    "\n",
    "# Display result\n",
    "print(f\"Rows with negative total_amount: {negative_rows_count}\")\n",
    "print(f\"Percentage of negative total_amount rows: {percentage_negative:.4f}%\")"
   ]
  },
  {
   "cell_type": "code",
   "execution_count": 11,
   "id": "75605086",
   "metadata": {},
   "outputs": [],
   "source": [
    "# 3. Select features and target\n",
    "features = ['trip_distance', 'passenger_count', 'pick_hour', 'pick_day', 'pick_month', 'drop_hour', 'drop_day', 'drop_month']\n",
    "target = 'total_amount'"
   ]
  },
  {
   "cell_type": "code",
   "execution_count": 12,
   "id": "1ff1b1a4",
   "metadata": {},
   "outputs": [
    {
     "data": {
      "text/plain": [
       "trip_distance      0\n",
       "passenger_count    0\n",
       "pick_hour          0\n",
       "pick_day           0\n",
       "pick_month         0\n",
       "drop_hour          0\n",
       "drop_day           0\n",
       "drop_month         0\n",
       "total_amount       0\n",
       "dtype: int64"
      ]
     },
     "execution_count": 12,
     "metadata": {},
     "output_type": "execute_result"
    }
   ],
   "source": [
    "# 4. Drop NA and keep relevant data\n",
    "df[features + [target]].isna().sum()"
   ]
  },
  {
   "cell_type": "code",
   "execution_count": 13,
   "id": "151a31ac",
   "metadata": {},
   "outputs": [],
   "source": [
    "# Sample data\n",
    "df_sample = df[features + [target]].sample(n=100_000, random_state=42).copy()"
   ]
  },
  {
   "cell_type": "code",
   "execution_count": 14,
   "id": "832c7f47",
   "metadata": {},
   "outputs": [],
   "source": [
    "X = df_sample[features]\n",
    "y = df_sample[target]"
   ]
  },
  {
   "cell_type": "code",
   "execution_count": 15,
   "id": "6c848097",
   "metadata": {},
   "outputs": [],
   "source": [
    "X_train, X_test, y_train, y_test = train_test_split(X, y, test_size=0.2, random_state=42)"
   ]
  },
  {
   "cell_type": "code",
   "execution_count": 16,
   "id": "b0a1cfa4",
   "metadata": {},
   "outputs": [],
   "source": [
    "# 6. Preprocessing: One-hot encode categoricals, scale numerics\n",
    "preprocessor = ColumnTransformer([\n",
    "    ('num', StandardScaler(), features)\n",
    "])"
   ]
  },
  {
   "cell_type": "code",
   "execution_count": 17,
   "id": "7929910f",
   "metadata": {},
   "outputs": [],
   "source": [
    "# Models to try\n",
    "models = {\n",
    "    \"Linear Regression\": LinearRegression(),\n",
    "    \"Random Forest\": RandomForestRegressor(n_estimators=50, n_jobs=-1, random_state=42),\n",
    "    \"Gradient Boosting\": GradientBoostingRegressor(n_estimators=100, random_state=42),\n",
    "    \"XGBoost\": XGBRegressor(n_estimators=100, tree_method=\"gpu_hist\", predictor=\"gpu_predictor\", random_state=42)\n",
    "}"
   ]
  },
  {
   "cell_type": "code",
   "execution_count": 18,
   "id": "74437f86",
   "metadata": {},
   "outputs": [],
   "source": [
    "# Evaluate all models\n",
    "results = []"
   ]
  },
  {
   "cell_type": "code",
   "execution_count": 19,
   "id": "1ea27af8",
   "metadata": {},
   "outputs": [
    {
     "name": "stdout",
     "output_type": "stream",
     "text": [
      "\n",
      " Training Linear Regression...\n",
      "Linear Regression → Train RMSE: 10.07, Train R²: 0.8062\n",
      "Linear Regression → RMSE: 9.53, R²: 0.8176\n",
      "\n",
      " Training Random Forest...\n",
      "Random Forest → Train RMSE: 4.55, Train R²: 0.9605\n",
      "Random Forest → RMSE: 9.79, R²: 0.8073\n",
      "\n",
      " Training Gradient Boosting...\n",
      "Gradient Boosting → Train RMSE: 8.97, Train R²: 0.8463\n",
      "Gradient Boosting → RMSE: 8.93, R²: 0.8397\n",
      "\n",
      " Training XGBoost...\n",
      "XGBoost → Train RMSE: 8.00, Train R²: 0.8775\n",
      "XGBoost → RMSE: 9.77, R²: 0.8083\n"
     ]
    }
   ],
   "source": [
    "for name, reg in models.items():\n",
    "    pipe = Pipeline([\n",
    "        ('preprocessor', preprocessor),\n",
    "        ('regressor', reg)\n",
    "    ])\n",
    "    \n",
    "    print(f\"\\n Training {name}...\")\n",
    "    pipe.fit(X_train, y_train)\n",
    "    \n",
    "    # Predictions on training set\n",
    "    y_train_pred = pipe.predict(X_train)\n",
    "\n",
    "    # Metrics on training set\n",
    "    train_rmse = np.sqrt(mean_squared_error(y_train, y_train_pred))\n",
    "    train_r2 = r2_score(y_train, y_train_pred)\n",
    "\n",
    "    print(f\"{name} → Train RMSE: {train_rmse:.2f}, Train R²: {train_r2:.4f}\")\n",
    "    \n",
    "    y_pred = pipe.predict(X_test)\n",
    "    \n",
    "    rmse = np.sqrt(mean_squared_error(y_test, y_pred))\n",
    "    r2 = r2_score(y_test, y_pred)\n",
    "    \n",
    "    print(f\"{name} → RMSE: {rmse:.2f}, R²: {r2:.4f}\")\n",
    "    results.append((name, rmse, r2))"
   ]
  },
  {
   "cell_type": "code",
   "execution_count": 20,
   "id": "874ad357",
   "metadata": {},
   "outputs": [
    {
     "name": "stdout",
     "output_type": "stream",
     "text": [
      "\n",
      "Model Comparison:\n",
      "Gradient Boosting         | RMSE: 8.93 | R²: 0.8397\n",
      "Linear Regression         | RMSE: 9.53 | R²: 0.8176\n",
      "XGBoost                   | RMSE: 9.77 | R²: 0.8083\n",
      "Random Forest             | RMSE: 9.79 | R²: 0.8073\n"
     ]
    }
   ],
   "source": [
    "# Sort and display results\n",
    "results.sort(key=lambda x: x[1])  # Sort by RMSE\n",
    "print(\"\\nModel Comparison:\")\n",
    "\n",
    "for name, rmse, r2 in results:\n",
    "    print(f\"{name:<25} | RMSE: {rmse:.2f} | R²: {r2:.4f}\")"
   ]
  },
  {
   "cell_type": "code",
   "execution_count": null,
   "id": "5236dd7b",
   "metadata": {},
   "outputs": [],
   "source": []
  },
  {
   "cell_type": "code",
   "execution_count": 21,
   "id": "9d47621f",
   "metadata": {},
   "outputs": [],
   "source": [
    "# Remaining unseen data (excluding sampled data)\n",
    "df_unseen = df.drop(df_sample.index)"
   ]
  },
  {
   "cell_type": "code",
   "execution_count": 22,
   "id": "ac58fc1c",
   "metadata": {},
   "outputs": [],
   "source": [
    "X_unseen = df_unseen[features]\n",
    "y_unseen = df_unseen[target]"
   ]
  },
  {
   "cell_type": "code",
   "execution_count": 23,
   "id": "6b27253c",
   "metadata": {},
   "outputs": [
    {
     "name": "stdout",
     "output_type": "stream",
     "text": [
      "Gradient Boosting on Unseen Data → RMSE: 9.35, R²: 0.8265\n"
     ]
    }
   ],
   "source": [
    "from sklearn.metrics import mean_squared_error, r2_score\n",
    "\n",
    "# Re-create preprocessing pipeline for Gradient Boosting\n",
    "pipe = Pipeline([\n",
    "    ('preprocessor', preprocessor),\n",
    "    ('regressor', GradientBoostingRegressor(n_estimators=100, random_state=42))\n",
    "])\n",
    "\n",
    "# Train on the sampled training data\n",
    "pipe.fit(X_train, y_train)\n",
    "\n",
    "# Predict on unseen data\n",
    "y_unseen_pred = pipe.predict(X_unseen)\n",
    "\n",
    "# Evaluate\n",
    "unseen_rmse = np.sqrt(mean_squared_error(y_unseen, y_unseen_pred))\n",
    "unseen_r2 = r2_score(y_unseen, y_unseen_pred)\n",
    "\n",
    "print(f\"Gradient Boosting on Unseen Data → RMSE: {unseen_rmse:.2f}, R²: {unseen_r2:.4f}\")"
   ]
  },
  {
   "cell_type": "code",
   "execution_count": 24,
   "id": "3ee00e27",
   "metadata": {},
   "outputs": [
    {
     "name": "stdout",
     "output_type": "stream",
     "text": [
      "Model saved as 'gradient_boosting_model.pkl'\n"
     ]
    }
   ],
   "source": [
    "import pickle\n",
    "\n",
    "# After fitting the pipeline on your sampled training data:\n",
    "pipe = Pipeline([\n",
    "    ('preprocessor', preprocessor),\n",
    "    ('regressor', GradientBoostingRegressor(n_estimators=100, random_state=42))\n",
    "])\n",
    "\n",
    "pipe.fit(X_train, y_train)\n",
    "\n",
    "# Save the trained model to a pickle file\n",
    "with open('gradient_boosting_model.pkl', 'wb') as f:\n",
    "    pickle.dump(pipe, f)\n",
    "\n",
    "print(\"Model saved as 'gradient_boosting_model.pkl'\")"
   ]
  },
  {
   "cell_type": "code",
   "execution_count": null,
   "id": "07265a3a",
   "metadata": {},
   "outputs": [],
   "source": []
  }
 ],
 "metadata": {
  "kernelspec": {
   "display_name": "Python 3 (ipykernel)",
   "language": "python",
   "name": "python3"
  },
  "language_info": {
   "codemirror_mode": {
    "name": "ipython",
    "version": 3
   },
   "file_extension": ".py",
   "mimetype": "text/x-python",
   "name": "python",
   "nbconvert_exporter": "python",
   "pygments_lexer": "ipython3",
   "version": "3.10.9"
  }
 },
 "nbformat": 4,
 "nbformat_minor": 5
}
